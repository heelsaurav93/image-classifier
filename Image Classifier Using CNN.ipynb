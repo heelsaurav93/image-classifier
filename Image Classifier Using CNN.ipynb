{
 "cells": [
  {
   "cell_type": "markdown",
   "metadata": {},
   "source": [
    "# This program is designed to distinguish between the pictures of dogs and cats and correctly classify them."
   ]
  },
  {
   "cell_type": "code",
   "execution_count": 2,
   "metadata": {
    "colab": {
     "base_uri": "https://localhost:8080/",
     "height": 122
    },
    "colab_type": "code",
    "id": "eeTUG0m9ryI4",
    "outputId": "e31ec22c-7193-4d17-f7e9-62a1eb4f19d2"
   },
   "outputs": [
    {
     "name": "stdout",
     "output_type": "stream",
     "text": [
      "Go to this URL in a browser: https://accounts.google.com/o/oauth2/auth?client_id=947318989803-6bn6qk8qdgf4n4g3pfee6491hc0brc4i.apps.googleusercontent.com&redirect_uri=urn%3aietf%3awg%3aoauth%3a2.0%3aoob&response_type=code&scope=email%20https%3a%2f%2fwww.googleapis.com%2fauth%2fdocs.test%20https%3a%2f%2fwww.googleapis.com%2fauth%2fdrive%20https%3a%2f%2fwww.googleapis.com%2fauth%2fdrive.photos.readonly%20https%3a%2f%2fwww.googleapis.com%2fauth%2fpeopleapi.readonly\n",
      "\n",
      "Enter your authorization code:\n",
      "··········\n",
      "Mounted at /content/drive\n"
     ]
    }
   ],
   "source": [
    "from google.colab import drive\n",
    "drive.mount('/content/drive')"
   ]
  },
  {
   "cell_type": "markdown",
   "metadata": {
    "colab_type": "text",
    "id": "Gp9rD6bF-yO-"
   },
   "source": [
    "### Part 1. Building the CNN"
   ]
  },
  {
   "cell_type": "code",
   "execution_count": 3,
   "metadata": {
    "colab": {
     "base_uri": "https://localhost:8080/",
     "height": 80
    },
    "colab_type": "code",
    "id": "9_FTd7OQr9Qo",
    "outputId": "ffc3b044-5efe-4bfa-df91-6967d75c4c9c"
   },
   "outputs": [
    {
     "name": "stderr",
     "output_type": "stream",
     "text": [
      "Using TensorFlow backend.\n"
     ]
    },
    {
     "data": {
      "text/html": [
       "<p style=\"color: red;\">\n",
       "The default version of TensorFlow in Colab will soon switch to TensorFlow 2.x.<br>\n",
       "We recommend you <a href=\"https://www.tensorflow.org/guide/migrate\" target=\"_blank\">upgrade</a> now \n",
       "or ensure your notebook will continue to use TensorFlow 1.x via the <code>%tensorflow_version 1.x</code> magic:\n",
       "<a href=\"https://colab.research.google.com/notebooks/tensorflow_version.ipynb\" target=\"_blank\">more info</a>.</p>\n"
      ],
      "text/plain": [
       "<IPython.core.display.HTML object>"
      ]
     },
     "metadata": {
      "tags": []
     },
     "output_type": "display_data"
    }
   ],
   "source": [
    "#importing required libraries\n",
    "from keras.models import Sequential #to initilize as a sequence of layers, not as a graph\n",
    "from keras.layers import Convolution2D #2D coz photos, videos are 3D with time\n",
    "from keras.layers import MaxPooling2D\n",
    "from keras.layers import Flatten\n",
    "from keras.layers import Dense #to add the fully connected layers in ANN"
   ]
  },
  {
   "cell_type": "code",
   "execution_count": 6,
   "metadata": {
    "colab": {
     "base_uri": "https://localhost:8080/",
     "height": 34
    },
    "colab_type": "code",
    "id": "BEDrI-twsCs2",
    "outputId": "6e86f83f-5b98-403e-a95a-cbe16c18936d"
   },
   "outputs": [
    {
     "data": {
      "text/plain": [
       "<keras.engine.sequential.Sequential at 0x7fba8c672668>"
      ]
     },
     "execution_count": 6,
     "metadata": {
      "tags": []
     },
     "output_type": "execute_result"
    }
   ],
   "source": [
    "#initializing the CNN\n",
    "classifier = Sequential()\n",
    "classifier"
   ]
  },
  {
   "cell_type": "markdown",
   "metadata": {
    "colab_type": "text",
    "id": "oklhc_Mc-9yT"
   },
   "source": [
    "#### Step 1:Convolution"
   ]
  },
  {
   "cell_type": "code",
   "execution_count": 0,
   "metadata": {
    "colab": {},
    "colab_type": "code",
    "id": "eNvm9cLisK8B"
   },
   "outputs": [],
   "source": [
    "#adding the convolution layer\n",
    "classifier.add(Convolution2D(32, kernel_size = (3, 3), input_shape = (64, 64, 3), activation = \"relu\"))"
   ]
  },
  {
   "cell_type": "markdown",
   "metadata": {
    "colab_type": "text",
    "id": "RnuFGHVa_DzK"
   },
   "source": [
    "#### Step 2: Pooling\n",
    "\n",
    "Reduces size of feature maps. We do this so that we reduce the number of nodes in the fully connected layer after flattening."
   ]
  },
  {
   "cell_type": "code",
   "execution_count": 8,
   "metadata": {
    "colab": {
     "base_uri": "https://localhost:8080/",
     "height": 51
    },
    "colab_type": "code",
    "id": "ovj3tQWDsPvD",
    "outputId": "70678898-84b4-4b28-ea34-2aa33b38873c"
   },
   "outputs": [
    {
     "name": "stdout",
     "output_type": "stream",
     "text": [
      "WARNING:tensorflow:From /usr/local/lib/python3.6/dist-packages/keras/backend/tensorflow_backend.py:4267: The name tf.nn.max_pool is deprecated. Please use tf.nn.max_pool2d instead.\n",
      "\n"
     ]
    }
   ],
   "source": [
    "#adding pooling layer\n",
    "classifier.add(MaxPooling2D(pool_size = (2, 2)))"
   ]
  },
  {
   "cell_type": "markdown",
   "metadata": {
    "colab_type": "text",
    "id": "lajPHNCXTZxP"
   },
   "source": [
    "#### Step 2.5: Adding a second convolution layer and pooling it"
   ]
  },
  {
   "cell_type": "code",
   "execution_count": 0,
   "metadata": {
    "colab": {},
    "colab_type": "code",
    "id": "ZsKHrNpZTZxR"
   },
   "outputs": [],
   "source": [
    "classifier.add(Convolution2D(32, kernel_size = (3, 3), activation = \"relu\"))\n",
    "classifier.add(MaxPooling2D(pool_size = (2, 2)))"
   ]
  },
  {
   "cell_type": "markdown",
   "metadata": {
    "colab_type": "text",
    "id": "3e5_i9ii_HXG"
   },
   "source": [
    "#### Step 3: Flattening"
   ]
  },
  {
   "cell_type": "code",
   "execution_count": 0,
   "metadata": {
    "colab": {},
    "colab_type": "code",
    "id": "mqDwWD31sRM1"
   },
   "outputs": [],
   "source": [
    "#adding flattening layer\n",
    "classifier.add(Flatten())"
   ]
  },
  {
   "cell_type": "markdown",
   "metadata": {
    "colab_type": "text",
    "id": "UIsPVTtJ_Ob7"
   },
   "source": [
    "#### Step 4: Full Connection"
   ]
  },
  {
   "cell_type": "code",
   "execution_count": 0,
   "metadata": {
    "colab": {},
    "colab_type": "code",
    "id": "k5CmwaZ7sUi1"
   },
   "outputs": [],
   "source": [
    "#adding fully connected layer\n",
    "classifier.add(Dense(units = 128, activation = \"relu\"))"
   ]
  },
  {
   "cell_type": "code",
   "execution_count": 0,
   "metadata": {
    "colab": {},
    "colab_type": "code",
    "id": "UYDD5BbGsXgm"
   },
   "outputs": [],
   "source": [
    "#adding output layer\n",
    "classifier.add(Dense(units = 1, activation = \"sigmoid\"))"
   ]
  },
  {
   "cell_type": "markdown",
   "metadata": {
    "colab_type": "text",
    "id": "jrLXrQar_XkF"
   },
   "source": [
    "### Part 2. Compiling the CNN"
   ]
  },
  {
   "cell_type": "code",
   "execution_count": 13,
   "metadata": {
    "colab": {
     "base_uri": "https://localhost:8080/",
     "height": 156
    },
    "colab_type": "code",
    "id": "CP2Rh3_GsZ2H",
    "outputId": "ccd6c871-ace0-4e2a-ac19-152d5220b33a"
   },
   "outputs": [
    {
     "name": "stdout",
     "output_type": "stream",
     "text": [
      "WARNING:tensorflow:From /usr/local/lib/python3.6/dist-packages/keras/optimizers.py:793: The name tf.train.Optimizer is deprecated. Please use tf.compat.v1.train.Optimizer instead.\n",
      "\n",
      "WARNING:tensorflow:From /usr/local/lib/python3.6/dist-packages/keras/backend/tensorflow_backend.py:3657: The name tf.log is deprecated. Please use tf.math.log instead.\n",
      "\n",
      "WARNING:tensorflow:From /usr/local/lib/python3.6/dist-packages/tensorflow_core/python/ops/nn_impl.py:183: where (from tensorflow.python.ops.array_ops) is deprecated and will be removed in a future version.\n",
      "Instructions for updating:\n",
      "Use tf.where in 2.0, which has the same broadcast rule as np.where\n"
     ]
    }
   ],
   "source": [
    "#compile with stochastic gradient descent\n",
    "classifier.compile(optimizer = \"adam\", loss = \"binary_crossentropy\", metrics = [\"accuracy\"])"
   ]
  },
  {
   "cell_type": "markdown",
   "metadata": {
    "colab_type": "text",
    "id": "rY69x98W_dLV"
   },
   "source": [
    "### Part 3. Fitting the CNN to the Images\n",
    "This uses image augmentation to preprocessing images to prevent overfitting."
   ]
  },
  {
   "cell_type": "code",
   "execution_count": 0,
   "metadata": {
    "colab": {},
    "colab_type": "code",
    "id": "Rz3IRqVEsc79"
   },
   "outputs": [],
   "source": [
    "from keras.preprocessing.image import ImageDataGenerator"
   ]
  },
  {
   "cell_type": "code",
   "execution_count": 0,
   "metadata": {
    "colab": {},
    "colab_type": "code",
    "id": "sVqHhCflsfS7"
   },
   "outputs": [],
   "source": [
    "#augmenting training images\n",
    "train_datagen = ImageDataGenerator(\n",
    "                                rescale = 1./255, \n",
    "                                shear_range = 0.2, \n",
    "                                zoom_range = 0.2, \n",
    "                                horizontal_flip = True)\n",
    "\n",
    "#augmenting test images\n",
    "test_datagen = ImageDataGenerator(rescale = 1./255)"
   ]
  },
  {
   "cell_type": "code",
   "execution_count": 21,
   "metadata": {
    "colab": {
     "base_uri": "https://localhost:8080/",
     "height": 51
    },
    "colab_type": "code",
    "id": "rKKI52sgsiS4",
    "outputId": "6062a556-d1f9-4ef9-9b42-bae02d394d98"
   },
   "outputs": [
    {
     "name": "stdout",
     "output_type": "stream",
     "text": [
      "Found 8000 images belonging to 2 classes.\n",
      "Found 2007 images belonging to 2 classes.\n"
     ]
    }
   ],
   "source": [
    "#creating training dataset\n",
    "training_set = train_datagen.flow_from_directory(\"drive/My Drive/dataset/training_set\", \n",
    "                                                                                                     target_size = (64, 64), \n",
    "                                                                                                     batch_size = 2, \n",
    "                                                                                                     class_mode = \"binary\")\n",
    "\n",
    "#creating test dataset\n",
    "test_set = test_datagen.flow_from_directory(\"drive/My Drive/dataset/test_set\", \n",
    "                                                                                             target_size = (64, 64), \n",
    "                                                                                             batch_size = 2, \n",
    "                                                                                             class_mode = \"binary\")"
   ]
  },
  {
   "cell_type": "code",
   "execution_count": 22,
   "metadata": {
    "colab": {
     "base_uri": "https://localhost:8080/",
     "height": 884
    },
    "colab_type": "code",
    "id": "4uVhDIG5s2_T",
    "outputId": "d0e3c0ad-fbe8-4b6f-a983-7e0d269abc55"
   },
   "outputs": [
    {
     "name": "stdout",
     "output_type": "stream",
     "text": [
      "Epoch 1/25\n",
      "8000/8000 [==============================] - 2311s 289ms/step - loss: 0.6392 - acc: 0.6387 - val_loss: 0.5937 - val_acc: 0.6895\n",
      "Epoch 2/25\n",
      "8000/8000 [==============================] - 107s 13ms/step - loss: 0.5713 - acc: 0.7000 - val_loss: 0.5724 - val_acc: 0.7149\n",
      "Epoch 3/25\n",
      "8000/8000 [==============================] - 106s 13ms/step - loss: 0.5171 - acc: 0.7433 - val_loss: 0.5308 - val_acc: 0.7440\n",
      "Epoch 4/25\n",
      "8000/8000 [==============================] - 106s 13ms/step - loss: 0.4820 - acc: 0.7698 - val_loss: 0.5108 - val_acc: 0.7669\n",
      "Epoch 5/25\n",
      "8000/8000 [==============================] - 106s 13ms/step - loss: 0.4576 - acc: 0.7851 - val_loss: 0.5067 - val_acc: 0.7642\n",
      "Epoch 6/25\n",
      "8000/8000 [==============================] - 106s 13ms/step - loss: 0.4301 - acc: 0.8011 - val_loss: 0.4856 - val_acc: 0.7851\n",
      "Epoch 7/25\n",
      "8000/8000 [==============================] - 105s 13ms/step - loss: 0.4030 - acc: 0.8176 - val_loss: 0.5363 - val_acc: 0.7650\n",
      "Epoch 8/25\n",
      "8000/8000 [==============================] - 105s 13ms/step - loss: 0.3813 - acc: 0.8287 - val_loss: 0.5105 - val_acc: 0.7777\n",
      "Epoch 9/25\n",
      "8000/8000 [==============================] - 106s 13ms/step - loss: 0.3601 - acc: 0.8376 - val_loss: 0.5334 - val_acc: 0.7901\n",
      "Epoch 10/25\n",
      "8000/8000 [==============================] - 106s 13ms/step - loss: 0.3458 - acc: 0.8507 - val_loss: 0.5174 - val_acc: 0.7817\n",
      "Epoch 11/25\n",
      "8000/8000 [==============================] - 106s 13ms/step - loss: 0.3235 - acc: 0.8647 - val_loss: 0.6049 - val_acc: 0.7802\n",
      "Epoch 12/25\n",
      "8000/8000 [==============================] - 105s 13ms/step - loss: 0.2994 - acc: 0.8716 - val_loss: 0.5964 - val_acc: 0.7812\n",
      "Epoch 13/25\n",
      "8000/8000 [==============================] - 106s 13ms/step - loss: 0.2925 - acc: 0.8786 - val_loss: 0.5804 - val_acc: 0.7742\n",
      "Epoch 14/25\n",
      "8000/8000 [==============================] - 113s 14ms/step - loss: 0.2706 - acc: 0.8871 - val_loss: 0.6474 - val_acc: 0.7824\n",
      "Epoch 15/25\n",
      "8000/8000 [==============================] - 107s 13ms/step - loss: 0.2623 - acc: 0.8925 - val_loss: 0.5729 - val_acc: 0.7906\n",
      "Epoch 16/25\n",
      "8000/8000 [==============================] - 107s 13ms/step - loss: 0.2518 - acc: 0.8996 - val_loss: 0.5839 - val_acc: 0.7737\n",
      "Epoch 17/25\n",
      "8000/8000 [==============================] - 105s 13ms/step - loss: 0.2432 - acc: 0.9060 - val_loss: 0.6148 - val_acc: 0.7899\n",
      "Epoch 18/25\n",
      "8000/8000 [==============================] - 105s 13ms/step - loss: 0.2296 - acc: 0.9079 - val_loss: 0.7628 - val_acc: 0.7787\n",
      "Epoch 19/25\n",
      "8000/8000 [==============================] - 105s 13ms/step - loss: 0.2244 - acc: 0.9093 - val_loss: 0.7279 - val_acc: 0.7792\n",
      "Epoch 20/25\n",
      "8000/8000 [==============================] - 105s 13ms/step - loss: 0.2195 - acc: 0.9153 - val_loss: 0.6888 - val_acc: 0.7764\n",
      "Epoch 21/25\n",
      "8000/8000 [==============================] - 104s 13ms/step - loss: 0.2071 - acc: 0.9191 - val_loss: 0.7057 - val_acc: 0.7916\n",
      "Epoch 22/25\n",
      "8000/8000 [==============================] - 105s 13ms/step - loss: 0.2000 - acc: 0.9196 - val_loss: 0.7116 - val_acc: 0.7849\n",
      "Epoch 23/25\n",
      "8000/8000 [==============================] - 105s 13ms/step - loss: 0.1982 - acc: 0.9220 - val_loss: 0.7246 - val_acc: 0.7779\n",
      "Epoch 24/25\n",
      "8000/8000 [==============================] - 105s 13ms/step - loss: 0.1927 - acc: 0.9256 - val_loss: 0.7537 - val_acc: 0.7799\n",
      "Epoch 25/25\n",
      "8000/8000 [==============================] - 110s 14ms/step - loss: 0.1904 - acc: 0.9249 - val_loss: 0.7472 - val_acc: 0.7836\n"
     ]
    },
    {
     "data": {
      "text/plain": [
       "<keras.callbacks.History at 0x7fba3ed78198>"
      ]
     },
     "execution_count": 22,
     "metadata": {
      "tags": []
     },
     "output_type": "execute_result"
    }
   ],
   "source": [
    "#fitting CNN on training set and testing performance on test set\n",
    "classifier.fit_generator(training_set, \n",
    "                                            steps_per_epoch = 8000, \n",
    "                                            epochs = 25, \n",
    "                                            validation_data = test_set, \n",
    "                                            validation_steps = 2007)"
   ]
  },
  {
   "cell_type": "markdown",
   "metadata": {
    "colab_type": "text",
    "id": "w1G9x3p2H30U"
   },
   "source": [
    "Training set accuracy is 92.49%. Test set accuracy is 78.36%. This is an improvement.\n"
   ]
  },
  {
   "cell_type": "markdown",
   "metadata": {
    "colab_type": "text",
    "id": "N7mRpNsLoPCN"
   },
   "source": [
    "## Predicting with new test case"
   ]
  },
  {
   "cell_type": "code",
   "execution_count": 0,
   "metadata": {
    "colab": {},
    "colab_type": "code",
    "id": "P-FMQA1aoosn"
   },
   "outputs": [],
   "source": [
    "import numpy as np"
   ]
  },
  {
   "cell_type": "code",
   "execution_count": 0,
   "metadata": {
    "colab": {},
    "colab_type": "code",
    "id": "LyaQgjCcovL8"
   },
   "outputs": [],
   "source": [
    "from keras.preprocessing import image "
   ]
  },
  {
   "cell_type": "code",
   "execution_count": 0,
   "metadata": {
    "colab": {},
    "colab_type": "code",
    "id": "pWpDWzWWo0W4"
   },
   "outputs": [],
   "source": [
    "#loading the image\n",
    "test_image = image.load_img(\"drive/My Drive/dataset/single_prediction/cat_or_dog_2.jpg\", target_size = (64, 64))"
   ]
  },
  {
   "cell_type": "markdown",
   "metadata": {
    "colab_type": "text",
    "id": "ew8HR6UqpeXf"
   },
   "source": [
    "Now we need to add the 3rd dimension because this is a colored image. This image will go from being an image to being a 3D array."
   ]
  },
  {
   "cell_type": "code",
   "execution_count": 0,
   "metadata": {
    "colab": {},
    "colab_type": "code",
    "id": "BNfbVmG4pZfz"
   },
   "outputs": [],
   "source": [
    "#converting to 3D array\n",
    "test_image = image.img_to_array(test_image)"
   ]
  },
  {
   "cell_type": "code",
   "execution_count": 41,
   "metadata": {
    "colab": {
     "base_uri": "https://localhost:8080/",
     "height": 850
    },
    "colab_type": "code",
    "id": "EU7VIRIkp2wQ",
    "outputId": "93ac0a2e-0947-439e-9f60-aeba192e49de"
   },
   "outputs": [
    {
     "data": {
      "text/plain": [
       "array([[[239., 239., 239.],\n",
       "        [239., 239., 239.],\n",
       "        [239., 239., 239.],\n",
       "        ...,\n",
       "        [245., 245., 245.],\n",
       "        [245., 245., 245.],\n",
       "        [245., 245., 245.]],\n",
       "\n",
       "       [[239., 239., 239.],\n",
       "        [239., 239., 239.],\n",
       "        [239., 239., 239.],\n",
       "        ...,\n",
       "        [245., 245., 245.],\n",
       "        [245., 245., 245.],\n",
       "        [244., 244., 244.]],\n",
       "\n",
       "       [[239., 239., 239.],\n",
       "        [239., 239., 239.],\n",
       "        [239., 239., 239.],\n",
       "        ...,\n",
       "        [244., 244., 244.],\n",
       "        [244., 244., 244.],\n",
       "        [244., 244., 244.]],\n",
       "\n",
       "       ...,\n",
       "\n",
       "       [[241., 217., 205.],\n",
       "        [243., 220., 206.],\n",
       "        [241., 219., 205.],\n",
       "        ...,\n",
       "        [227., 200., 181.],\n",
       "        [233., 205., 191.],\n",
       "        [232., 215., 197.]],\n",
       "\n",
       "       [[255., 237., 227.],\n",
       "        [251., 234., 227.],\n",
       "        [252., 235., 227.],\n",
       "        ...,\n",
       "        [219., 193., 178.],\n",
       "        [219., 193., 180.],\n",
       "        [216., 189., 172.]],\n",
       "\n",
       "       [[243., 230., 222.],\n",
       "        [250., 235., 228.],\n",
       "        [246., 231., 226.],\n",
       "        ...,\n",
       "        [203., 180., 164.],\n",
       "        [220., 198., 177.],\n",
       "        [225., 202., 186.]]], dtype=float32)"
      ]
     },
     "execution_count": 41,
     "metadata": {
      "tags": []
     },
     "output_type": "execute_result"
    }
   ],
   "source": [
    "test_image"
   ]
  },
  {
   "cell_type": "markdown",
   "metadata": {
    "colab_type": "text",
    "id": "ou1lCjIWqPTc"
   },
   "source": [
    "We also need to add a 4th dimension which would be the batch size."
   ]
  },
  {
   "cell_type": "code",
   "execution_count": 0,
   "metadata": {
    "colab": {},
    "colab_type": "code",
    "id": "GVCYsA2DqX9C"
   },
   "outputs": [],
   "source": [
    "#adding 4th dimension\n",
    "test_image = np.expand_dims(test_image, axis = 0)"
   ]
  },
  {
   "cell_type": "code",
   "execution_count": 44,
   "metadata": {
    "colab": {
     "base_uri": "https://localhost:8080/",
     "height": 34
    },
    "colab_type": "code",
    "id": "iLGv0B23rAEv",
    "outputId": "4f6ffce4-46b7-47ba-8f97-bfe09f2b21c2"
   },
   "outputs": [
    {
     "data": {
      "text/plain": [
       "(1, 64, 64, 3)"
      ]
     },
     "execution_count": 44,
     "metadata": {
      "tags": []
     },
     "output_type": "execute_result"
    }
   ],
   "source": [
    "#checking dimensions\n",
    "test_image.shape"
   ]
  },
  {
   "cell_type": "code",
   "execution_count": 45,
   "metadata": {
    "colab": {
     "base_uri": "https://localhost:8080/",
     "height": 34
    },
    "colab_type": "code",
    "id": "Wej_RwmUrFFr",
    "outputId": "9bac4b48-2595-4bbd-9f55-a7a05e77c6c2"
   },
   "outputs": [
    {
     "data": {
      "text/plain": [
       "array([[0.]], dtype=float32)"
      ]
     },
     "execution_count": 45,
     "metadata": {
      "tags": []
     },
     "output_type": "execute_result"
    }
   ],
   "source": [
    "#predicting the result\n",
    "result = classifier.predict(test_image)\n",
    "result"
   ]
  },
  {
   "cell_type": "markdown",
   "metadata": {
    "colab_type": "text",
    "id": "zE-PDWxxrMRS"
   },
   "source": [
    "What does 0 correspond to?"
   ]
  },
  {
   "cell_type": "code",
   "execution_count": 46,
   "metadata": {
    "colab": {
     "base_uri": "https://localhost:8080/",
     "height": 34
    },
    "colab_type": "code",
    "id": "3cXPk0v3rYwU",
    "outputId": "273e1bc5-0efa-485c-bd79-13470f4913ae"
   },
   "outputs": [
    {
     "data": {
      "text/plain": [
       "{'cats': 0, 'dogs': 1}"
      ]
     },
     "execution_count": 46,
     "metadata": {
      "tags": []
     },
     "output_type": "execute_result"
    }
   ],
   "source": [
    "#we get the mapping here\n",
    "training_set.class_indices"
   ]
  },
  {
   "cell_type": "markdown",
   "metadata": {
    "colab_type": "text",
    "id": "SVXauuCarfUZ"
   },
   "source": [
    "Therefore the prediction is correct. 0 means Cat."
   ]
  },
  {
   "cell_type": "code",
   "execution_count": 47,
   "metadata": {
    "colab": {
     "base_uri": "https://localhost:8080/",
     "height": 34
    },
    "colab_type": "code",
    "id": "xtpUMqfArpfd",
    "outputId": "fa283a14-2e7a-4192-d3b2-4bcd649fa6cd"
   },
   "outputs": [
    {
     "name": "stdout",
     "output_type": "stream",
     "text": [
      "Cat\n"
     ]
    }
   ],
   "source": [
    "if result[0][0] == 1:\n",
    "  prediction = \"Dog\"\n",
    "else:\n",
    "  prediction = \"Cat\"\n",
    "\n",
    "print(prediction)"
   ]
  },
  {
   "cell_type": "markdown",
   "metadata": {},
   "source": [
    "## BRAVO!"
   ]
  }
 ],
 "metadata": {
  "accelerator": "GPU",
  "colab": {
   "collapsed_sections": [],
   "name": "Deep_Learning_A_Z_Part_10_Building_a_CNN_(with_added_improv).ipynb",
   "provenance": []
  },
  "kernelspec": {
   "display_name": "Python 3",
   "language": "python",
   "name": "python3"
  },
  "language_info": {
   "codemirror_mode": {
    "name": "ipython",
    "version": 3
   },
   "file_extension": ".py",
   "mimetype": "text/x-python",
   "name": "python",
   "nbconvert_exporter": "python",
   "pygments_lexer": "ipython3",
   "version": "3.6.8"
  }
 },
 "nbformat": 4,
 "nbformat_minor": 1
}
